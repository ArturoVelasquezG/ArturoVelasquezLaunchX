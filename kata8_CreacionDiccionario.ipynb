{
 "cells": [
  {
   "cell_type": "markdown",
   "metadata": {},
   "source": [
    "### Kata 8: ejercicio 1; creacion de diccionarios"
   ]
  },
  {
   "cell_type": "code",
   "execution_count": 18,
   "metadata": {},
   "outputs": [
    {
     "name": "stdout",
     "output_type": "stream",
     "text": [
      "{'Name': 'Marte', 'Number of Moons': 2}\n"
     ]
    }
   ],
   "source": [
    "#creacion de diccionario\n",
    "About_planet = {\n",
    "    'Name': 'Marte',\n",
    "    'Number of Moons': 2}\n",
    "print(About_planet)"
   ]
  },
  {
   "cell_type": "code",
   "execution_count": 19,
   "metadata": {},
   "outputs": [
    {
     "name": "stdout",
     "output_type": "stream",
     "text": [
      "Marte\n",
      "2\n"
     ]
    }
   ],
   "source": [
    "#recuperar valor de diccionario\n",
    "print('Nombre del planeta:{p}'.forAbout_planet.get('Name'))\n",
    "print(About_planet['Number of Moons'])"
   ]
  },
  {
   "cell_type": "code",
   "execution_count": 21,
   "metadata": {},
   "outputs": [
    {
     "name": "stdout",
     "output_type": "stream",
     "text": [
      "{'Name': 'Marte', 'Number of Moons': 2, 'Pole diameter': 6752, 'equatorial diameter': 6792}\n"
     ]
    }
   ],
   "source": [
    "#actualizar diccionario\n",
    "About_planet.update({'Pole diameter': 6752})\n",
    "About_planet['equatorial diameter'] = 6792\n",
    "print(About_planet)"
   ]
  },
  {
   "cell_type": "code",
   "execution_count": 23,
   "metadata": {},
   "outputs": [
    {
     "name": "stdout",
     "output_type": "stream",
     "text": [
      "nombre del planeta: Marte\n",
      "Diametro polar: 6752 km\n"
     ]
    }
   ],
   "source": [
    "#imprimir nombre del planeta y su diametro polar\n",
    "print('nombre del planeta: {planeta}'.format(planeta = About_planet.get('Name')))\n",
    "print('Diametro polar: {diam_p} km'.format(diam_p=About_planet['Pole diameter']))"
   ]
  },
  {
   "cell_type": "markdown",
   "metadata": {},
   "source": [
    "### Ejercicio 2: dinamica con diccionarios"
   ]
  },
  {
   "cell_type": "code",
   "execution_count": 8,
   "metadata": {},
   "outputs": [],
   "source": [
    "#planetas con lunas\n",
    "moons_planets={\n",
    "    'Mercurio': 0,\n",
    "    'Venus': 0,\n",
    "    'Tierra': 1,\n",
    "    'Marte': 2,\n",
    "    'Jupiter': 79,\n",
    "    'Saturno': 82,\n",
    "    'Urano': 27,\n",
    "    'Neptuno': 14,\n",
    "    'Plutón': 5,\n",
    "    'Haumea': 2,\n",
    "    'Makemake': 1,\n",
    "    'Eris': 1\n",
    "}"
   ]
  },
  {
   "cell_type": "code",
   "execution_count": 15,
   "metadata": {},
   "outputs": [
    {
     "name": "stdout",
     "output_type": "stream",
     "text": [
      "la suma total de lunas es de 214\n",
      "\n",
      "los planetas tienen una media de: 17.833333333333332 en lunas\n"
     ]
    }
   ],
   "source": [
    "moons = moons_planets.values()\n",
    "planets=len(moons_planets.keys())\n",
    "\n",
    "total_moons = 0\n",
    "for moon in moons:\n",
    "    total_moons = total_moons + moon\n",
    "\n",
    "media = total_moons/planets\n",
    "print(f'la suma total de lunas es de {total_moons}\\n')\n",
    "print(f'los planetas tienen una media de: {media} en lunas')"
   ]
  }
 ],
 "metadata": {
  "interpreter": {
   "hash": "ad61812abf42370d955c0b63e7d9ceba3ada926da11743b958169e35dcbf6542"
  },
  "kernelspec": {
   "display_name": "Python 3.10.2 64-bit",
   "language": "python",
   "name": "python3"
  },
  "language_info": {
   "codemirror_mode": {
    "name": "ipython",
    "version": 3
   },
   "file_extension": ".py",
   "mimetype": "text/x-python",
   "name": "python",
   "nbconvert_exporter": "python",
   "pygments_lexer": "ipython3",
   "version": "3.10.2"
  },
  "orig_nbformat": 4
 },
 "nbformat": 4,
 "nbformat_minor": 2
}
