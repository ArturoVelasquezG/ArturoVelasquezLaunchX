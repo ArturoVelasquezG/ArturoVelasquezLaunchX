{
 "cells": [
  {
   "cell_type": "markdown",
   "metadata": {},
   "source": [
    "# KATA 3\n",
    "# Ejercicio 3: declaraciones if, else y elif"
   ]
  },
  {
   "cell_type": "code",
   "execution_count": 2,
   "metadata": {},
   "outputs": [
    {
     "name": "stdout",
     "output_type": "stream",
     "text": [
      "Advertencia: Asteroide acercandose a la Tierra \n"
     ]
    }
   ],
   "source": [
    "V_Asteroide = 49\n",
    "if V_Asteroide > 25:\n",
    "    print(\"Advertencia: Asteroide acercandose a la Tierra \")\n",
    "    #instrucción(es) a ejecutar\n",
    "else:\n",
    "    print(\"Sin cambios\")"
   ]
  },
  {
   "cell_type": "code",
   "execution_count": 4,
   "metadata": {},
   "outputs": [
    {
     "name": "stdout",
     "output_type": "stream",
     "text": [
      "Sin cambios\n"
     ]
    }
   ],
   "source": [
    "Velocity_asteroide = 19\n",
    "if Velocity_asteroide > 20:\n",
    "    print(\"luz visible en el cielo: Asteroide acercandose\")\n",
    "elif Velocity_asteroide == 20:\n",
    "    print(\"luz visible en el cielo: Asteroide acercandose\")\n",
    "else:\n",
    "    print(\"Sin cambios\")\n",
    "    "
   ]
  },
  {
   "cell_type": "code",
   "execution_count": 11,
   "metadata": {},
   "outputs": [
    {
     "name": "stdout",
     "output_type": "stream",
     "text": [
      "Sin cambios\n"
     ]
    }
   ],
   "source": [
    "Velocity = 19\n",
    "Diametro = 22\n",
    "\n",
    "if (Diametro >= 25 and Diametro <1000 ) and Velocity >= 25:\n",
    "    print(\"Advertencia: asteroide acercandose, choque inminente, visible desde la Tierre\")\n",
    "elif Diametro < 25 and Velocity >= 25:\n",
    "    print(\"Asteroide acercandose, gran probabilidad de impacto, visible desde la Tierra\")\n",
    "elif Diametro <25 and Velocity <25:\n",
    "    print(\"Sin cambios\")\n",
    "else:\n",
    "    print(\"Sin cambios\")"
   ]
  }
 ],
 "metadata": {
  "interpreter": {
   "hash": "7dd77e9ee7a783d8dbef13203a3dc20874e0cb33ca98a3297070489dccc17e19"
  },
  "kernelspec": {
   "display_name": "Python 3.8.6 64-bit",
   "language": "python",
   "name": "python3"
  },
  "language_info": {
   "codemirror_mode": {
    "name": "ipython",
    "version": 3
   },
   "file_extension": ".py",
   "mimetype": "text/x-python",
   "name": "python",
   "nbconvert_exporter": "python",
   "pygments_lexer": "ipython3",
   "version": "3.8.6"
  },
  "orig_nbformat": 4
 },
 "nbformat": 4,
 "nbformat_minor": 2
}
