{
 "cells": [
  {
   "cell_type": "markdown",
   "metadata": {},
   "source": [
    "### KATA 4\n",
    "#### Ejercicio 4: cadenas \n",
    "#### programa para describir hechos de..."
   ]
  },
  {
   "cell_type": "code",
   "execution_count": null,
   "metadata": {},
   "outputs": [],
   "source": [
    "speach = \"\"\"Interesting facts about the Moon. The Moon is Earth's only satellite. There are several interesting facts about the Moon and how it affects life \n",
    "here on Earth. On average, the Moon moves 4cm away from the Earth every year. This yearly drift is not significant enough to cause immediate effects on Earth. The highest daylight temperature of the Moon is 127 C.\"\"\"\n",
    "speach"
   ]
  },
  {
   "cell_type": "code",
   "execution_count": null,
   "metadata": {},
   "outputs": [],
   "source": [
    "# sntc1 = \"\"\"Interesting facts about the Moon. The Moon is Earth's only satellite. \"\"\"\n",
    "# sntc2 = \"\"\"There are several interesting facts about the Moon and how it affects life here on Earth. \"\"\"\n",
    "# sntc3 = \"\"\"On average, the Moon moves 4cm away from the Earth every year. \"\"\"\n",
    "# sntc4 = \"\"\"This yearly drift is not significant enough to cause immediate effects on Earth. \"\"\"\n",
    "# sntc5 = \"\"\"The highest daylight temperature of the Moon is 127 C.\"\"\"\n",
    "# \n",
    "# Sentence = sntc1 + sntc2 + sntc3 + sntc4 + sntc5\n",
    "# Sentence"
   ]
  },
  {
   "cell_type": "code",
   "execution_count": null,
   "metadata": {},
   "outputs": [],
   "source": [
    "Text_sentence = speach.split('. ')\n",
    "Text_sentence"
   ]
  },
  {
   "cell_type": "code",
   "execution_count": null,
   "metadata": {},
   "outputs": [],
   "source": [
    "speach.lower()\n",
    "List_w = ['average', 'temperature','distance']"
   ]
  },
  {
   "cell_type": "code",
   "execution_count": null,
   "metadata": {},
   "outputs": [],
   "source": [
    "for sentence in speach.split():\n",
    "    for list_Words in List_w:\n",
    "        if list_Words in sentence:\n",
    "            print(sentence)\n",
    "            break"
   ]
  },
  {
   "cell_type": "code",
   "execution_count": null,
   "metadata": {},
   "outputs": [],
   "source": [
    "Lword = [\" \"]\n",
    "for sentence in speach.split(\":\"):\n",
    "    for list_Words in Lword:\n",
    "        if list_Words in sentence:\n",
    "            print(sentence.replace('C', 'Celsius'))\n",
    "            break"
   ]
  },
  {
   "cell_type": "markdown",
   "metadata": {},
   "source": [
    "### Ejercicio 2 formateando cadenas"
   ]
  },
  {
   "cell_type": "code",
   "execution_count": null,
   "metadata": {},
   "outputs": [],
   "source": [
    "name = \"Moon\"\n",
    "gravity = 0.00162 #Kms\n",
    "planet = \"Earth\"\n",
    "\n",
    "Title_exercice2 = f\"gravity facts about {name}\""
   ]
  },
  {
   "cell_type": "code",
   "execution_count": null,
   "metadata": {},
   "outputs": [],
   "source": [
    "Title_exercice2\n"
   ]
  },
  {
   "cell_type": "code",
   "execution_count": null,
   "metadata": {},
   "outputs": [],
   "source": [
    "lines_div = f\"\"\"{\"-\"*50}\n",
    "La {name} del planeta {planet} tiene una\n",
    "gravedad de {gravity * 1000} m/s2\"\"\"\n",
    "\n",
    "print(lines_div)"
   ]
  },
  {
   "cell_type": "code",
   "execution_count": null,
   "metadata": {},
   "outputs": [],
   "source": [
    "Fusion_text = f\"\"\"{Title_exercice2.title()}\n",
    "{lines_div}\"\"\"\n",
    "print(Fusion_text)"
   ]
  },
  {
   "cell_type": "code",
   "execution_count": 22,
   "metadata": {},
   "outputs": [
    {
     "name": "stdout",
     "output_type": "stream",
     "text": [
      "--------------------------------------------------\n",
      "La Moon del planeta Earth tiene una\n",
      "gravedad de 1.6199999999999999 m/s2\n"
     ]
    }
   ],
   "source": [
    "planet = \"Mart\"\n",
    "gravity = 0.00143\n",
    "name = \"Ganimedes\"\n",
    "print(lines_div)"
   ]
  },
  {
   "cell_type": "code",
   "execution_count": 37,
   "metadata": {},
   "outputs": [
    {
     "name": "stdout",
     "output_type": "stream",
     "text": [
      "la gravedad de la luna del Mart\n",
      "-----------------------------------------------\n",
      "nombre de la luna: Ganimedes\n",
      "gravedad: 1.4300000000000002\n"
     ]
    }
   ],
   "source": [
    "New_info = \"\"\"la gravedad de la luna del {planet}\n",
    "-----------------------------------------------\n",
    "nombre de la luna: {name}\n",
    "gravedad: {gravity}\"\"\"\n",
    "\n",
    "print(New_info.format(planet=planet,name=name,gravity=gravity*1000))"
   ]
  }
 ],
 "metadata": {
  "interpreter": {
   "hash": "7dd77e9ee7a783d8dbef13203a3dc20874e0cb33ca98a3297070489dccc17e19"
  },
  "kernelspec": {
   "display_name": "Python 3.8.6 64-bit",
   "language": "python",
   "name": "python3"
  },
  "language_info": {
   "codemirror_mode": {
    "name": "ipython",
    "version": 3
   },
   "file_extension": ".py",
   "mimetype": "text/x-python",
   "name": "python",
   "nbconvert_exporter": "python",
   "pygments_lexer": "ipython3",
   "version": "3.8.6"
  },
  "orig_nbformat": 4
 },
 "nbformat": 4,
 "nbformat_minor": 2
}
