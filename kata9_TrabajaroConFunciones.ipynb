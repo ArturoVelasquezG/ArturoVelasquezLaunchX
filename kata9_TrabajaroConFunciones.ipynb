{
 "cells": [
  {
   "cell_type": "markdown",
   "metadata": {},
   "source": [
    "### Kata 9: Uso de funciones en python\n",
    "### Ejercicio 1, trabajar con argumentos de funciones"
   ]
  },
  {
   "cell_type": "code",
   "execution_count": 3,
   "metadata": {},
   "outputs": [],
   "source": [
    "def gas_drum(drum1,drum2,drum3):\n",
    "    fill=(drum1+drum2+drum3)/3  \n",
    "    # tanque lleno 290 Litros (100%)\n",
    "    return f'''\\tEstado actual (tanques de gasolina):\n",
    "            Tanque 1: {drum1} %\n",
    "            Tanque 2: {drum2} %\n",
    "            Tanque 3: {drum3} %\n",
    "            Total: {round(fill,2)} %'''"
   ]
  },
  {
   "cell_type": "code",
   "execution_count": 4,
   "metadata": {},
   "outputs": [
    {
     "name": "stdout",
     "output_type": "stream",
     "text": [
      "\tEstado actual (tanques de gasolina):\n",
      "            Tanque 1: 150 %\n",
      "            Tanque 2: 67 %\n",
      "            Tanque 3: 120 %\n",
      "            Total: 112.33 %\n"
     ]
    }
   ],
   "source": [
    "print(gas_drum(150,67,120))"
   ]
  },
  {
   "cell_type": "code",
   "execution_count": 5,
   "metadata": {},
   "outputs": [
    {
     "data": {
      "text/plain": [
       "130.667"
      ]
     },
     "execution_count": 5,
     "metadata": {},
     "output_type": "execute_result"
    }
   ],
   "source": [
    "#creamos una nueva funcion para promediar\n",
    "def average_dum(dates):\n",
    "    Total=sum(dates)\n",
    "    TotalofDums=len(dates)\n",
    "    return round(Total/TotalofDums,3)\n",
    "\n",
    "average_dum([120,67,205])"
   ]
  },
  {
   "cell_type": "code",
   "execution_count": 7,
   "metadata": {},
   "outputs": [
    {
     "name": "stdout",
     "output_type": "stream",
     "text": [
      "\tEstado actual (tanques de gasolina):\n",
      "            Tanque 1: 100 %\n",
      "            Tanque 2: 115 % \n",
      "            Tanque 3: 269 %\n",
      "            Total: 161.33 %\n"
     ]
    }
   ],
   "source": [
    "def gas_drum(Drum1,Drum2,Drum3):\n",
    "    fill=average_dum([Drum1,Drum2,Drum3])\n",
    "    # Los tanques muestran el estado actual en base a un porcentaje\n",
    "    return f'''\\tEstado actual (tanques de gasolina):\n",
    "            Tanque 1: {Drum1} %\n",
    "            Tanque 2: {Drum2} % \n",
    "            Tanque 3: {Drum3} %\n",
    "            Total: {round(fill,2)} %'''\n",
    "\n",
    "print(gas_drum(100,115,269))"
   ]
  },
  {
   "cell_type": "markdown",
   "metadata": {},
   "source": [
    "### Ejercicio 2: Trabajo de argumentos con palabras clave"
   ]
  },
  {
   "cell_type": "code",
   "execution_count": 12,
   "metadata": {},
   "outputs": [
    {
     "name": "stdout",
     "output_type": "stream",
     "text": [
      "\t\tReporte General\n",
      "            Tiempo transcurrido(min.): 39 min.\n",
      "            Combustible(%): 72.5 %\n",
      "            Destino: Marte\n"
     ]
    }
   ],
   "source": [
    "# se crea un reporte general del estado actual de la mision\n",
    "def destiny(destination, pre_launcher, fly_time, external_dum,internal_dum):\n",
    "    total_dum=(external_dum+internal_dum)/2\n",
    "    time=pre_launcher+fly_time\n",
    "    return f'''\\t\\tReporte General\n",
    "            Tiempo transcurrido(min.): {time} min.\n",
    "            Combustible(%): {total_dum} %\n",
    "            Destino: {destination}'''\n",
    "\n",
    "print(destiny('Marte',25,14,60,85))"
   ]
  },
  {
   "cell_type": "code",
   "execution_count": 13,
   "metadata": {},
   "outputs": [
    {
     "name": "stdout",
     "output_type": "stream",
     "text": [
      "\t\tReport\n",
      "            Destination: Moon\n",
      "            Time of fly: 54\n",
      "            Porcent in dums: 164 %\n"
     ]
    }
   ],
   "source": [
    "#'*Ftime' y '**PorcentOfDums' nos permite agregar valores de manera indefinida\n",
    "#Se emplea 'sum' y 'values para crear un promedio\n",
    "def General_report(Destination,*Ftime,**PorcentOfDums):\n",
    "    Time_F=sum(Ftime)\n",
    "    PDums=sum(PorcentOfDums.values())\n",
    "    return f'''\\t\\tReport\n",
    "            Destination: {Destination}\n",
    "            Time of fly: {Time_F} minutes\n",
    "            Porcent in dums: {PDums} %'''\n",
    "\n",
    "print(General_report('Jupyter',14,15,25,ExternalDum=85,InternalDum=79))\n"
   ]
  },
  {
   "cell_type": "code",
   "execution_count": 38,
   "metadata": {},
   "outputs": [
    {
     "name": "stdout",
     "output_type": "stream",
     "text": [
      "\tGeneral mission's report\n",
      "--------------------------------------------------\n",
      "    destination: Marte\n",
      "    Total travel time: 91 minutes\n",
      "    Total porcent of fuil: 115 %\n",
      " --------------------------------------------------\n",
      "    External dum >>> 50 %\n",
      "Internal dum >>> 65 %\n",
      "\n"
     ]
    }
   ],
   "source": [
    "#Empleando el ciclo 'for' nos permitira conocer el estado actual de los tanques de gasolina de manera independiente\n",
    "def GeneralReport(destination, *FlyTime, **PorcentOfFuil):\n",
    "    FlyT = sum(FlyTime)\n",
    "    TotalOfFuil=sum(PorcentOfFuil.values())\n",
    "    Plantilla= '-'*50\n",
    "    main_report = f\"\"\"\\tGeneral mission's report\\n{Plantilla}\n",
    "    destination: {destination}\n",
    "    Total travel time: {FlyT} minutes\n",
    "    Total porcent of fuil: {TotalOfFuil} %\\n {Plantilla}\n",
    "    \"\"\"\n",
    "    for dum, porcent in PorcentOfFuil.items():\n",
    "        main_report += f\"{dum} dum >>> {porcent} %\\n\"\n",
    "  \n",
    "    return main_report\n",
    "\n",
    "print(GeneralReport(\"Marte\", 11, 75, 5, External=50, Internal=65))"
   ]
  }
 ],
 "metadata": {
  "interpreter": {
   "hash": "ad61812abf42370d955c0b63e7d9ceba3ada926da11743b958169e35dcbf6542"
  },
  "kernelspec": {
   "display_name": "Python 3.10.2 64-bit",
   "language": "python",
   "name": "python3"
  },
  "language_info": {
   "codemirror_mode": {
    "name": "ipython",
    "version": 3
   },
   "file_extension": ".py",
   "mimetype": "text/x-python",
   "name": "python",
   "nbconvert_exporter": "python",
   "pygments_lexer": "ipython3",
   "version": "3.10.2"
  },
  "orig_nbformat": 4
 },
 "nbformat": 4,
 "nbformat_minor": 2
}
