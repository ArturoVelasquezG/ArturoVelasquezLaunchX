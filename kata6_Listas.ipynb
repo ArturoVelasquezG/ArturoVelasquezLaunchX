{
 "cells": [
  {
   "cell_type": "markdown",
   "metadata": {},
   "source": [
    "### KATA 6: ejercicio 1 busca el planeta"
   ]
  },
  {
   "cell_type": "code",
   "execution_count": 2,
   "metadata": {},
   "outputs": [
    {
     "name": "stdout",
     "output_type": "stream",
     "text": [
      "['Mercurio', 'Venus', 'Tierra', 'Marte', 'Jupiter', 'Saturno', 'Urano', 'Neptuno']\n"
     ]
    }
   ],
   "source": [
    "planets=['Mercurio','Venus','Tierra','Marte','Jupiter','Saturno','Urano','Neptuno']\n",
    "print(planets)"
   ]
  },
  {
   "cell_type": "code",
   "execution_count": 70,
   "metadata": {},
   "outputs": [
    {
     "name": "stdout",
     "output_type": "stream",
     "text": [
      "EL ultimo planeta en el sistema solar es:  Pluton\n"
     ]
    }
   ],
   "source": [
    "planets.append('Pluton')\n",
    "New_List=len(planets)\n",
    "print('EL ultimo planeta en el sistema solar es: ',planets[-1])\n"
   ]
  },
  {
   "cell_type": "markdown",
   "metadata": {},
   "source": [
    "### Ejercio 2: Busca planetas"
   ]
  },
  {
   "cell_type": "code",
   "execution_count": 5,
   "metadata": {},
   "outputs": [
    {
     "name": "stdout",
     "output_type": "stream",
     "text": [
      "Planetas mas cercanos al Sol que Venus:  ['Mercurio']\n",
      "planetas mas alejados al Sol que Venus:  ['Tierra', 'Marte', 'Jupiter', 'Saturno', 'Urano', 'Neptuno']\n"
     ]
    }
   ],
   "source": [
    "Search_p=input(\"\"\"Ingresa un planeta y conoce si es \n",
    "               un planeta cercano o lejano al sol(al buscar inicia la 1ra. letra con Mayuscula): \"\"\")\n",
    "\n",
    "if Search_p in planets:\n",
    "    know_planet=planets.index(Search_p)\n",
    "    \n",
    "    print(\"\"\"Planetas mas cercanos al Sol que {User}: \"\"\".format(User=Search_p), planets[0:])\n",
    "    print('planetas mas alejados al Sol que {User}: '.format(User=Search_p),planets[know_planet:])\n",
    "\n",
    "else:\n",
    "    print('este planeta no esta en la lista, recuerda iniciar con Mayuscula')\n",
    "    "
   ]
  }
 ],
 "metadata": {
  "interpreter": {
   "hash": "7dd77e9ee7a783d8dbef13203a3dc20874e0cb33ca98a3297070489dccc17e19"
  },
  "kernelspec": {
   "display_name": "Python 3.8.6 64-bit",
   "language": "python",
   "name": "python3"
  },
  "language_info": {
   "codemirror_mode": {
    "name": "ipython",
    "version": 3
   },
   "file_extension": ".py",
   "mimetype": "text/x-python",
   "name": "python",
   "nbconvert_exporter": "python",
   "pygments_lexer": "ipython3",
   "version": "3.10.2"
  },
  "orig_nbformat": 4
 },
 "nbformat": 4,
 "nbformat_minor": 2
}
