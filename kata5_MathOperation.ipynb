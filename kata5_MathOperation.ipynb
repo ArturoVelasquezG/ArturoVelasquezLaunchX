{
 "cells": [
  {
   "cell_type": "markdown",
   "metadata": {},
   "source": [
    "#### KATA 5: Ejercicio 1, calcular distancia entre planetas"
   ]
  },
  {
   "cell_type": "code",
   "execution_count": null,
   "metadata": {},
   "outputs": [],
   "source": []
  },
  {
   "cell_type": "code",
   "execution_count": null,
   "metadata": {},
   "outputs": [],
   "source": [
    "Earth = 149597870 #149.597.870 km\n",
    "Jupyter = 778547200 #778.547.200 km\n",
    "Earth\n",
    "Jupyter"
   ]
  },
  {
   "cell_type": "code",
   "execution_count": null,
   "metadata": {},
   "outputs": [],
   "source": [
    "#1 Km = 0.621 Millas\n",
    "Mll = 0.621\n",
    "Distance_Km = Earth - Jupyter\n",
    "Distance_Mll = (Earth * Mll) - (Jupyter * Mll)\n",
    "\n",
    "print(str(abs(Distance_Km)) + ' Kilometros')\n",
    "print(str(abs(Distance_Mll)) + ' millas')"
   ]
  },
  {
   "cell_type": "code",
   "execution_count": null,
   "metadata": {},
   "outputs": [],
   "source": [
    "print(\"\"\"Conoce la distancia\"\"\".title()+\"\"\"\\nPor favor ingrese los planetas que desea conocer\"\"\")\n",
    "Planet_1=input('Nombre del primer planeta: ')\n",
    "Dist_planet1=input('Ingrese la distancia con respecto al sol')\n",
    "Planet_2=input('Nombre del segundo planeta: ')\n",
    "Dist_planet2=input('Ingrese la distancia con respecto al sol')\n",
    "\n",
    "DistanceF = abs(float(Dist_planet1) - float(Dist_planet2))\n",
    "DistKm=str(DistanceF)\n",
    "DistMll=str(round(DistanceF*Mll,3))\n",
    "Txt=\"\"\"\\n\\n\\nLa distancia entre {Planet1} y {Planet2}\n",
    "es de {Distkm} km ({Distmll} millas)\"\"\"\n",
    "print(Txt.format(Planet1=Planet_1,Planet2=Planet_2,Distkm=DistKm,Distmll=DistMll))\n",
    "\n"
   ]
  }
 ],
 "metadata": {
  "interpreter": {
   "hash": "7dd77e9ee7a783d8dbef13203a3dc20874e0cb33ca98a3297070489dccc17e19"
  },
  "kernelspec": {
   "display_name": "Python 3.8.6 64-bit",
   "language": "python",
   "name": "python3"
  },
  "language_info": {
   "codemirror_mode": {
    "name": "ipython",
    "version": 3
   },
   "file_extension": ".py",
   "mimetype": "text/x-python",
   "name": "python",
   "nbconvert_exporter": "python",
   "pygments_lexer": "ipython3",
   "version": "3.8.6"
  },
  "orig_nbformat": 4
 },
 "nbformat": 4,
 "nbformat_minor": 2
}
