{
 "cells": [
  {
   "cell_type": "markdown",
   "metadata": {},
   "source": [
    "### EJERCICIO 2: Generar fecha y conversor de unidades\n",
    "#### Generar Fecha"
   ]
  },
  {
   "cell_type": "code",
   "execution_count": null,
   "metadata": {},
   "outputs": [],
   "source": [
    "from datetime import date\n",
    "print(\"Today's date is: {}\".format(date.today())) \n",
    "\n",
    "#segun la solución\n",
    "print(\"Today's date is: \" + str(date.today()))\n",
    "\n",
    "      "
   ]
  },
  {
   "cell_type": "markdown",
   "metadata": {},
   "source": [
    "### Convertidor de Unidades"
   ]
  },
  {
   "cell_type": "code",
   "execution_count": null,
   "metadata": {},
   "outputs": [],
   "source": [
    "#conversion de unidades\n",
    "\n",
    "Parsec = 11 # unidad de medida empleada en astronomia\n",
    "lightyears = 3.26156 * Parsec\n",
    "\n",
    "print(str(Parsec) + \" parsec, is \" + str(round(lightyears,3)) + \" lightyears\")\n",
    "\n"
   ]
  }
 ],
 "metadata": {
  "interpreter": {
   "hash": "7dd77e9ee7a783d8dbef13203a3dc20874e0cb33ca98a3297070489dccc17e19"
  },
  "kernelspec": {
   "display_name": "Python 3.8.6 64-bit",
   "language": "python",
   "name": "python3"
  },
  "language_info": {
   "codemirror_mode": {
    "name": "ipython",
    "version": 3
   },
   "file_extension": ".py",
   "mimetype": "text/x-python",
   "name": "python",
   "nbconvert_exporter": "python",
   "pygments_lexer": "ipython3",
   "version": "3.8.6"
  },
  "orig_nbformat": 4
 },
 "nbformat": 4,
 "nbformat_minor": 2
}
